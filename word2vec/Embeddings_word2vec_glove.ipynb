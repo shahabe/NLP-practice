{
 "cells": [
  {
   "cell_type": "code",
   "execution_count": 1,
   "metadata": {},
   "outputs": [],
   "source": [
    "from gensim.models.keyedvectors import KeyedVectors\n",
    "from gensim.models import word2vec\n",
    "import gensim.downloader as api"
   ]
  },
  {
   "cell_type": "code",
   "execution_count": null,
   "metadata": {},
   "outputs": [],
   "source": [
    "word_vectors = api.load('glove-wiki-gigaword-50')"
   ]
  },
  {
   "cell_type": "code",
   "execution_count": 2,
   "metadata": {},
   "outputs": [
    {
     "data": {
      "text/plain": [
       "[('sexual', 0.8234277367591858),\n",
       " ('harassment', 0.8090097904205322),\n",
       " ('abuses', 0.7943168878555298),\n",
       " ('sex', 0.7941537499427795),\n",
       " ('criminal', 0.7893994450569153),\n",
       " ('rape', 0.7847622632980347),\n",
       " ('cases', 0.782743513584137),\n",
       " ('misconduct', 0.7807194590568542),\n",
       " ('torture', 0.7727799415588379),\n",
       " ('crime', 0.7662270069122314),\n",
       " ('neglect', 0.762278139591217),\n",
       " ('discrimination', 0.7608848810195923),\n",
       " ('alleged', 0.7530607581138611),\n",
       " ('allegations', 0.7488146424293518),\n",
       " ('serious', 0.744958221912384),\n",
       " ('charges', 0.7440094947814941),\n",
       " ('mistreatment', 0.741011381149292),\n",
       " ('dealing', 0.7386057376861572),\n",
       " ('victim', 0.7379998564720154),\n",
       " ('stemming', 0.7320647239685059),\n",
       " ('crimes', 0.7304348349571228),\n",
       " ('abused', 0.7293891906738281),\n",
       " ('complaints', 0.7288611531257629),\n",
       " ('child', 0.7285066843032837),\n",
       " ('corruption', 0.7261059284210205)]"
      ]
     },
     "execution_count": 2,
     "metadata": {},
     "output_type": "execute_result"
    }
   ],
   "source": [
    "word_vectors.most_similar('abuse', topn = 25)"
   ]
  },
  {
   "cell_type": "code",
   "execution_count": 3,
   "metadata": {},
   "outputs": [
    {
     "data": {
      "text/plain": [
       "[('mental', 0.8731808066368103),\n",
       " ('psychological', 0.8420647978782654),\n",
       " ('experience', 0.8173168301582336),\n",
       " ('lack', 0.8085145354270935),\n",
       " ('stress', 0.7857223153114319),\n",
       " ('knowledge', 0.7729593515396118),\n",
       " ('certain', 0.7690230011940002),\n",
       " ('skill', 0.7685284614562988),\n",
       " ('skills', 0.760212779045105),\n",
       " ('abilities', 0.7577658295631409),\n",
       " ('learning', 0.7564065456390381),\n",
       " ('minimal', 0.7552646994590759),\n",
       " ('and/or', 0.7535192966461182),\n",
       " ('particular', 0.7467431426048279),\n",
       " ('emotional', 0.7463260293006897),\n",
       " ('serious', 0.7413700819015503),\n",
       " ('proper', 0.7393556833267212),\n",
       " ('ability', 0.7382082939147949),\n",
       " ('visual', 0.7366421222686768),\n",
       " ('trauma', 0.7357707023620605),\n",
       " ('basic', 0.7356463074684143),\n",
       " ('quality', 0.7337371706962585),\n",
       " ('treatment', 0.732905387878418),\n",
       " ('reasons', 0.7316986918449402),\n",
       " ('aspects', 0.7313452959060669)]"
      ]
     },
     "execution_count": 3,
     "metadata": {},
     "output_type": "execute_result"
    }
   ],
   "source": [
    "word_vectors.most_similar('physical', topn = 25)"
   ]
  },
  {
   "cell_type": "code",
   "execution_count": 4,
   "metadata": {},
   "outputs": [
    {
     "data": {
      "text/plain": [
       "[('onset', 0.7914988398551941),\n",
       " ('severe', 0.7839459776878357),\n",
       " ('illness', 0.7577464580535889),\n",
       " ('alcoholism', 0.7406427264213562),\n",
       " ('fever', 0.7339359521865845),\n",
       " ('debilitating', 0.7328546643257141),\n",
       " ('anxiety', 0.7284860014915466),\n",
       " ('symptoms', 0.7284563779830933),\n",
       " ('respiratory', 0.7220224738121033),\n",
       " ('experiencing', 0.7218852639198303),\n",
       " ('complications', 0.7164477705955505),\n",
       " ('suffering', 0.7126669883728027),\n",
       " ('caused', 0.7055109739303589),\n",
       " ('pneumonia', 0.7045726776123047),\n",
       " ('acute', 0.7023511528968811),\n",
       " ('chronic', 0.6988701820373535),\n",
       " ('causes', 0.6948482394218445),\n",
       " ('schizophrenia', 0.6914389133453369),\n",
       " ('suffer', 0.6903968453407288),\n",
       " ('worsened', 0.6852149963378906),\n",
       " ('dementia', 0.6822355389595032),\n",
       " ('postpartum', 0.6819018125534058),\n",
       " ('childhood', 0.6802726984024048),\n",
       " ('disorder', 0.677268922328949),\n",
       " ('illnesses', 0.6771678924560547)]"
      ]
     },
     "execution_count": 4,
     "metadata": {},
     "output_type": "execute_result"
    }
   ],
   "source": [
    "word_vectors.most_similar('depression', topn = 25)"
   ]
  },
  {
   "cell_type": "markdown",
   "metadata": {},
   "source": [
    "## Experimenting the \"glove.6B.50d.txt\"\n",
    "\n",
    "1. Download the files from here: https://github.com/stanfordnlp/GloVe?tab=readme-ov-file#download-pre-trained-word-vectors\n",
    "    - Common Crawl (42B tokens, 1.9M vocab, uncased, 300d vectors, 1.75 GB download): [glove.42B.300d.zip](https://huggingface.co/stanfordnlp/glove/resolve/main/glove.42B.300d.zip) [[mirror](https://nlp.stanford.edu/data/wordvecs/glove.42B.300d.zip)]\n",
    "    - Common Crawl (840B tokens, 2.2M vocab, cased, 300d vectors, 2.03 GB download): [glove.840B.300d.zip](https://huggingface.co/stanfordnlp/glove/resolve/main/glove.840B.300d.zip) [[mirror](https://nlp.stanford.edu/data/wordvecs/glove.840B.300d.zip)]\n",
    "    - Wikipedia 2014 + Gigaword 5 (6B tokens, 400K vocab, uncased, 300d vectors, 822 MB download): [glove.6B.zip](https://huggingface.co/stanfordnlp/glove/resolve/main/glove.6B.zip) [[mirror](https://nlp.stanford.edu/data/wordvecs/glove.6B.zip)]\n",
    "    - Twitter (2B tweets, 27B tokens, 1.2M vocab, uncased, 200d vectors, 1.42 GB download): [glove.twitter.27B.zip](https://huggingface.co/stanfordnlp/glove/resolve/main/glove.twitter.27B.zip) [[mirror](https://nlp.stanford.edu/data/wordvecs/glove.twitter.27B.zip)]\n",
    "1. If you choose to download the `Wikipedia 2014 + Gigaword 5` model, extract the files in folder named data.\n",
    "1. IF you use `KeyedVectors.load_word2vec_format('glove.6B.50d.txt', binary=False)` it will give you error.\n",
    "```\n",
    "    ValueError: invalid literal for int() with base 10: 'the'\n",
    "```\n",
    "- To hack this, you need to add the `400000 50` to the very first **line** of the text file, since it has 400k vocab and 50 dimension vectors."
   ]
  },
  {
   "cell_type": "code",
   "execution_count": 3,
   "metadata": {},
   "outputs": [],
   "source": [
    "def insert_line_to_test(text_file, insert_line):\n",
    "    with open(text_file, 'r+') as file:\n",
    "        first_line = file.readline()\n",
    "        if insert_line not in first_line:\n",
    "            file.seek(0, 0) \n",
    "            file_data = file.read()\n",
    "            file.seek(0, 0)  \n",
    "            file.write(insert_line + '\\n' + file_data) "
   ]
  },
  {
   "cell_type": "code",
   "execution_count": 4,
   "metadata": {},
   "outputs": [],
   "source": [
    "# for \"glove.6B.50d\" file:\n",
    "num_vocab = 400000\n",
    "dimension = 50\n",
    "text_file = 'data/glove.6B.50d_modified.txt'\n",
    "insert_line = f'{num_vocab} {dimension}'\n",
    "insert_line_to_test(text_file, insert_line)"
   ]
  },
  {
   "cell_type": "code",
   "execution_count": 6,
   "metadata": {},
   "outputs": [],
   "source": [
    "word_vectors = KeyedVectors.load_word2vec_format('data/glove.6B.50d_modified.txt', binary=False)"
   ]
  },
  {
   "cell_type": "code",
   "execution_count": 10,
   "metadata": {},
   "outputs": [
    {
     "data": {
      "text/plain": [
       "[('sexual', 0.8234277367591858),\n",
       " ('harassment', 0.8090097904205322),\n",
       " ('abuses', 0.7943168878555298),\n",
       " ('sex', 0.7941537499427795),\n",
       " ('criminal', 0.7893994450569153),\n",
       " ('rape', 0.7847622632980347),\n",
       " ('cases', 0.782743513584137),\n",
       " ('misconduct', 0.7807194590568542),\n",
       " ('torture', 0.7727799415588379),\n",
       " ('crime', 0.7662270069122314),\n",
       " ('neglect', 0.762278139591217),\n",
       " ('discrimination', 0.7608848810195923),\n",
       " ('alleged', 0.7530607581138611),\n",
       " ('allegations', 0.7488146424293518),\n",
       " ('serious', 0.744958221912384),\n",
       " ('charges', 0.7440094947814941),\n",
       " ('mistreatment', 0.741011381149292),\n",
       " ('dealing', 0.7386057376861572),\n",
       " ('victim', 0.7379998564720154),\n",
       " ('stemming', 0.7320647239685059),\n",
       " ('crimes', 0.7304348349571228),\n",
       " ('abused', 0.7293891906738281),\n",
       " ('complaints', 0.7288611531257629),\n",
       " ('child', 0.7285066843032837),\n",
       " ('corruption', 0.7261059284210205)]"
      ]
     },
     "execution_count": 10,
     "metadata": {},
     "output_type": "execute_result"
    }
   ],
   "source": [
    "word_vectors.most_similar('abuse', topn = 25)"
   ]
  },
  {
   "cell_type": "code",
   "execution_count": 15,
   "metadata": {},
   "outputs": [
    {
     "data": {
      "text/plain": [
       "[('onset', 0.7914988398551941),\n",
       " ('severe', 0.7839459776878357),\n",
       " ('illness', 0.7577464580535889),\n",
       " ('alcoholism', 0.7406427264213562),\n",
       " ('fever', 0.7339359521865845),\n",
       " ('debilitating', 0.7328546643257141),\n",
       " ('anxiety', 0.7284860014915466),\n",
       " ('symptoms', 0.7284563779830933),\n",
       " ('respiratory', 0.7220224738121033),\n",
       " ('experiencing', 0.7218852639198303),\n",
       " ('complications', 0.7164477705955505),\n",
       " ('suffering', 0.7126669883728027),\n",
       " ('caused', 0.7055109739303589),\n",
       " ('pneumonia', 0.7045726776123047),\n",
       " ('acute', 0.7023511528968811),\n",
       " ('chronic', 0.6988701820373535),\n",
       " ('causes', 0.6948482394218445),\n",
       " ('schizophrenia', 0.6914389133453369),\n",
       " ('suffer', 0.6903968453407288),\n",
       " ('worsened', 0.6852149963378906),\n",
       " ('dementia', 0.6822355389595032),\n",
       " ('postpartum', 0.6819018125534058),\n",
       " ('childhood', 0.6802726984024048),\n",
       " ('disorder', 0.677268922328949),\n",
       " ('illnesses', 0.6771678924560547)]"
      ]
     },
     "execution_count": 15,
     "metadata": {},
     "output_type": "execute_result"
    }
   ],
   "source": [
    "word_vectors.most_similar('depression', topn = 25)"
   ]
  },
  {
   "cell_type": "code",
   "execution_count": 5,
   "metadata": {},
   "outputs": [],
   "source": [
    "# for \"glove.6B.100d\" file:\n",
    "num_vocab = 400000\n",
    "dimension = 100\n",
    "text_file = 'data/glove.6B.100d_modified.txt'\n",
    "insert_line = f'{num_vocab} {dimension}'\n",
    "insert_line_to_test(text_file, insert_line)"
   ]
  },
  {
   "cell_type": "code",
   "execution_count": 10,
   "metadata": {},
   "outputs": [
    {
     "name": "stdout",
     "output_type": "stream",
     "text": [
      "Loading Glove Model\n",
      "400001 words loaded!\n",
      "[-0.38497   0.80092   0.064106 -0.28355  -0.026759 -0.34532  -0.64253\n",
      " -0.11729  -0.33257   0.55243  -0.087813  0.9035    0.47102   0.56657\n",
      "  0.6985   -0.35229  -0.86542   0.90573   0.03576  -0.071705 -0.12327\n",
      "  0.54923   0.47005   0.35572   1.2611   -0.67581  -0.94983   0.68666\n",
      "  0.3871   -1.3492    0.63512   0.46416  -0.48814   0.83827  -0.9246\n",
      " -0.33722   0.53741  -1.0616   -0.081403 -0.67111   0.30923  -0.3923\n",
      " -0.55002  -0.68827   0.58049  -0.11626   0.013139 -0.57654   0.048833\n",
      "  0.67204 ]\n"
     ]
    }
   ],
   "source": [
    "from gensim.models.keyedvectors import KeyedVectors\n",
    "from gensim.models import word2vec\n",
    "\n",
    "import numpy as np\n",
    "\n",
    "def load_glove_model(File):\n",
    "    print(\"Loading Glove Model\")\n",
    "    glove_model = {}\n",
    "    with open(File,'r') as f:\n",
    "        for line in f:\n",
    "            split_line = line.split()\n",
    "            word = split_line[0]\n",
    "            embedding = np.array(split_line[1:], dtype=np.float64)\n",
    "            glove_model[word] = embedding\n",
    "    print(f\"{len(glove_model)} words loaded!\")\n",
    "    return glove_model\n",
    "\n",
    "gloveModel = load_glove_model('/home/shahab/Documents/VU/NIT6003/NLP/word2vec/glove.6B.50d.txt')\n",
    "print(gloveModel['hello'])\n",
    "# gloveModel.most_similar('depression', topn = 25)\n"
   ]
  }
 ],
 "metadata": {
  "kernelspec": {
   "display_name": ".venv",
   "language": "python",
   "name": "python3"
  },
  "language_info": {
   "codemirror_mode": {
    "name": "ipython",
    "version": 3
   },
   "file_extension": ".py",
   "mimetype": "text/x-python",
   "name": "python",
   "nbconvert_exporter": "python",
   "pygments_lexer": "ipython3",
   "version": "3.10.12"
  }
 },
 "nbformat": 4,
 "nbformat_minor": 2
}
