{
 "cells": [
  {
   "cell_type": "markdown",
   "metadata": {},
   "source": [
    "### Install and import the necessary python packages\n",
    "- `praw` an acronym for \"Python Reddit API Wrapper\", is a [Python package](https://github.com/praw-dev/praw) that allows for simple access to Reddit's API. We need this to fetch data from reddit.\n",
    "- `pandas` is a datascience python package and we need this to save the data to `csv` file.\n",
    "\n",
    "However, we need to install these packages to our virtual environment.\n",
    "The following code will install them. If you have installed them already, you may skip running it or comment the follwoing cell."
   ]
  },
  {
   "cell_type": "code",
   "execution_count": null,
   "metadata": {},
   "outputs": [],
   "source": [
    "!pip install praw\n",
    "!pip install pandas"
   ]
  },
  {
   "cell_type": "markdown",
   "metadata": {},
   "source": [
    "We import the necessary packages"
   ]
  },
  {
   "cell_type": "code",
   "execution_count": null,
   "metadata": {},
   "outputs": [],
   "source": [
    "import praw\n",
    "import pandas as pd\n",
    "import datetime as dt"
   ]
  },
  {
   "cell_type": "markdown",
   "metadata": {},
   "source": [
    "Now, we need to connect to reddit using the api information from our reddit account. If you do not have it, you need to create it within your account. To do so:\n",
    "- Login to your reddit account in a browswer.\n",
    "  - It is better to use the username and password to create your reddit account, since you need it later on.\n",
    "    - If you have already created your account using google, apple or any other authenticators, you need to create a password for your account. You may try to delete your account and create a new one. However, during the delete process, it will ask you to assing a password to your account (a hack :smiley:)\n",
    "- You need to create an App witin your reddit account. To do so:\n",
    "  - After login, open this following page: [https://www.reddit.com/prefs/apps/](https://www.reddit.com/prefs/apps/)\n",
    "  - Click on `create another app...`\n",
    "  - Give it a name i.e. `api-test`\n",
    "  - **Choose `script`**\n",
    "  - You may write a description which is optional.\n",
    "  - \"about url\" is optional.\n",
    "  - For `redirect url` you may use `https://www.google.com/`\n",
    "\n",
    "<img src=./Assets/images/create-reddit-app.png>\n",
    "\n",
    "  - Then the app would be like this:\n",
    "\n",
    "<img src=./Assets/images/created-reddit-app.png>\n",
    "\n",
    "To connect to your app using `praw`, in the following code, use:\n",
    "- `client_id` is written after \"personal use script\"\n",
    "- `client_secret` is written in front of the \"secret\"\n",
    "- `username` can be your username or the one written in front of the \"developers\"\n",
    "- `password` you know your reddit password\n",
    "- `user_agent` can be anything i.e. \"api-test\"\n"
   ]
  },
  {
   "cell_type": "code",
   "execution_count": null,
   "metadata": {},
   "outputs": [],
   "source": [
    "reddit = praw.Reddit(client_id = '<The client_id or the personal use script>',\n",
    "                     client_secret = '<The secret variable in your reddit app>',\n",
    "                     username='<your user name or the developers variable>',\n",
    "                     password='<your password>',\n",
    "                     user_agent='<This can be any phrase or the name of your api>')"
   ]
  },
  {
   "cell_type": "markdown",
   "metadata": {},
   "source": [
    "Now, you may choose your topic that you want to fetch data regarding it from reddit. For example you may choose \"Covid19\".\n",
    "Then you need to create a `subreddit` variable to read the information from it."
   ]
  },
  {
   "cell_type": "code",
   "execution_count": null,
   "metadata": {},
   "outputs": [],
   "source": [
    "topic_name = \"Covid19\"\n",
    "subreddit = reddit.subreddit(topic_name)"
   ]
  },
  {
   "cell_type": "markdown",
   "metadata": {},
   "source": [
    "You may choose which variables from the reddit information you want to retriev. You may choose the followings, and create a `dict` to save them from each reddit record.\n",
    "\n",
    "To fetrch the data, you may choose to get at most 100 \"hot\" pages based on your topic using `hot` function and save them in a pandas dataform."
   ]
  },
  {
   "cell_type": "code",
   "execution_count": null,
   "metadata": {},
   "outputs": [],
   "source": [
    "topics_dict = { \"title\":[], \\\n",
    "                \"score\":[], \\\n",
    "                \"id\":[], \"url\":[], \\\n",
    "                \"comms_num\": [], \\\n",
    "                \"created\": [], \\\n",
    "                \"post_comment\":[], \\\n",
    "                \"upvotes\":[]}\n",
    "for submission in subreddit.hot(limit=100):\n",
    "    topics_dict[\"title\"].append(submission.title)\n",
    "    topics_dict[\"score\"].append(submission.score)\n",
    "    topics_dict[\"id\"].append(submission.id)\n",
    "    topics_dict[\"url\"].append(submission.url)\n",
    "    topics_dict[\"comms_num\"].append(submission.num_comments)\n",
    "    topics_dict[\"created\"].append(submission.created)\n",
    "    topics_dict[\"post_comment\"].append(submission.selftext)\n",
    "    topics_dict[\"upvotes\"].append(submission.ups)\n",
    "    \n",
    "    topics_data = pd.DataFrame(topics_dict)"
   ]
  },
  {
   "cell_type": "markdown",
   "metadata": {},
   "source": [
    "If you recieve any error similar to\n",
    "```\n",
    "OAuthException: invalid_grant error processing request\n",
    "```\n",
    "you might have misspelled any of the client_id, client_secret, username or password.\n",
    "\n",
    "\n",
    "\n",
    "Now, you have fetched all the data, but you need to save them somewhere i.e. a csv file.\n",
    "To have better view of the date and time of the created reddit page, you may change the `timestamp` of it to the human readable date using the defined `get_date` function and add it to the last column of your fetched data.\n",
    "Fianlly, you may save it in a csv file."
   ]
  },
  {
   "cell_type": "code",
   "execution_count": null,
   "metadata": {},
   "outputs": [],
   "source": [
    "def get_date(created):\n",
    "    return dt.datetime.fromtimestamp(created)\n",
    "\n",
    "_timestamp = topics_data[\"created\"].apply(get_date)\n",
    "topics_data = topics_data.assign(timestamp = _timestamp)\n",
    "\n",
    "topics_data.to_csv(f'{topic_name}_topics.csv') "
   ]
  }
 ],
 "metadata": {
  "kernelspec": {
   "display_name": ".venv",
   "language": "python",
   "name": "python3"
  },
  "language_info": {
   "codemirror_mode": {
    "name": "ipython",
    "version": 3
   },
   "file_extension": ".py",
   "mimetype": "text/x-python",
   "name": "python",
   "nbconvert_exporter": "python",
   "pygments_lexer": "ipython3",
   "version": "3.10.12"
  }
 },
 "nbformat": 4,
 "nbformat_minor": 2
}
